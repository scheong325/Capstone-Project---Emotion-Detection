{
 "cells": [
  {
   "cell_type": "markdown",
   "metadata": {
    "papermill": {
     "duration": 0.020682,
     "end_time": "2020-10-08T08:21:31.277478",
     "exception": false,
     "start_time": "2020-10-08T08:21:31.256796",
     "status": "completed"
    },
    "tags": []
   },
   "source": [
    "# Facial Emotion Recogination"
   ]
  },
  {
   "cell_type": "markdown",
   "metadata": {},
   "source": []
  },
  {
   "cell_type": "markdown",
   "metadata": {
    "papermill": {
     "duration": 0.018517,
     "end_time": "2020-10-08T08:21:31.315915",
     "exception": false,
     "start_time": "2020-10-08T08:21:31.297398",
     "status": "completed"
    },
    "tags": []
   },
   "source": [
    "## Import libraries"
   ]
  },
  {
   "cell_type": "code",
   "execution_count": 12,
   "metadata": {
    "_cell_guid": "79c7e3d0-c299-4dcb-8224-4455121ee9b0",
    "_uuid": "d629ff2d2480ee46fbb7e2d37f6b5fab8052498a",
    "execution": {
     "iopub.execute_input": "2020-10-08T08:21:31.362590Z",
     "iopub.status.busy": "2020-10-08T08:21:31.361789Z",
     "iopub.status.idle": "2020-10-08T08:21:36.655156Z",
     "shell.execute_reply": "2020-10-08T08:21:36.655769Z"
    },
    "papermill": {
     "duration": 5.320742,
     "end_time": "2020-10-08T08:21:36.655995",
     "exception": false,
     "start_time": "2020-10-08T08:21:31.335253",
     "status": "completed"
    },
    "tags": []
   },
   "outputs": [],
   "source": [
    "import numpy as np\n",
    "import pandas as pd\n",
    "import os\n",
    "import tensorflow as tf\n",
    "from keras.models import Sequential\n",
    "from keras_preprocessing.image import ImageDataGenerator, load_img\n",
    "import cv2\n",
    "from keras.layers import Conv2D, Dense, BatchNormalization, Activation, Dropout, MaxPooling2D, Flatten\n",
    "from keras.optimizers import Adam, RMSprop, SGD\n",
    "from keras import regularizers\n",
    "#from keras.callbacks import ModelCheckpoint, CSVLogger, TensorBoard, EarlyStopping, ReduceLROnPlateau\n",
    "#import datetime\n",
    "import matplotlib.pyplot as plt\n",
    "from keras.utils import plot_model"
   ]
  },
  {
   "cell_type": "markdown",
   "metadata": {
    "papermill": {
     "duration": 0.030612,
     "end_time": "2020-10-08T08:21:36.728766",
     "exception": false,
     "start_time": "2020-10-08T08:21:36.698154",
     "status": "completed"
    },
    "tags": []
   },
   "source": [
    "## Import data"
   ]
  },
  {
   "cell_type": "code",
   "execution_count": 13,
   "metadata": {
    "execution": {
     "iopub.execute_input": "2020-10-08T08:21:36.803496Z",
     "iopub.status.busy": "2020-10-08T08:21:36.802537Z",
     "iopub.status.idle": "2020-10-08T08:21:37.272572Z",
     "shell.execute_reply": "2020-10-08T08:21:37.274101Z"
    },
    "papermill": {
     "duration": 0.514189,
     "end_time": "2020-10-08T08:21:37.274335",
     "exception": false,
     "start_time": "2020-10-08T08:21:36.760146",
     "status": "completed"
    },
    "tags": []
   },
   "outputs": [
    {
     "name": "stdout",
     "output_type": "stream",
     "text": [
      "            angry  disgust  fear  happy  neutral   sad  surprise\n",
      "train data   3995      436  4097   7215     4965  4830      3171\n",
      "           angry  disgust  fear  happy  neutral   sad  surprise\n",
      "test data    958      111  1024   1774     1233  1247       831\n"
     ]
    }
   ],
   "source": [
    "train_data_dir = 'C:/Users/Grace/Desktop/Capstone project/data/train/'\n",
    "test_data_dir = 'C:/Users/Grace/Desktop/Capstone project/data/test/'\n",
    "\n",
    "row, col = 48, 48\n",
    "classes = 7\n",
    "\n",
    "def count_exp(path, set_):\n",
    "    dict_ = {}\n",
    "    for expression in os.listdir(path):\n",
    "        dir_ = path + expression\n",
    "        dict_[expression] = len(os.listdir(dir_))\n",
    "    df = pd.DataFrame(dict_, index=[set_])\n",
    "    return df\n",
    "train_data_count = count_exp(train_data_dir, 'train data')\n",
    "test_data_count = count_exp(test_data_dir, 'test data')\n",
    "print(train_data_count)\n",
    "print(test_data_count)"
   ]
  },
  {
   "cell_type": "markdown",
   "metadata": {
    "papermill": {
     "duration": 0.023055,
     "end_time": "2020-10-08T08:21:37.330149",
     "exception": false,
     "start_time": "2020-10-08T08:21:37.307094",
     "status": "completed"
    },
    "tags": []
   },
   "source": [
    "### Bar chart for emotion images in train data"
   ]
  },
  {
   "cell_type": "code",
   "execution_count": 14,
   "metadata": {
    "execution": {
     "iopub.execute_input": "2020-10-08T08:21:37.376264Z",
     "iopub.status.busy": "2020-10-08T08:21:37.375439Z",
     "iopub.status.idle": "2020-10-08T08:21:37.614326Z",
     "shell.execute_reply": "2020-10-08T08:21:37.614889Z"
    },
    "papermill": {
     "duration": 0.264281,
     "end_time": "2020-10-08T08:21:37.615048",
     "exception": false,
     "start_time": "2020-10-08T08:21:37.350767",
     "status": "completed"
    },
    "tags": []
   },
   "outputs": [
    {
     "data": {
      "text/plain": [
       "<AxesSubplot:>"
      ]
     },
     "execution_count": 14,
     "metadata": {},
     "output_type": "execute_result"
    },
    {
     "data": {
      "image/png": "[encoded data removed]",
      "text/plain": [
       "<Figure size 720x720 with 1 Axes>"
      ]
     },
     "metadata": {
      "needs_background": "light"
     },
     "output_type": "display_data"
    }
   ],
   "source": [
    "train_data_count.transpose().plot(kind='bar', figsize=(10,10))"
   ]
  },
  {
   "cell_type": "markdown",
   "metadata": {
    "papermill": {
     "duration": 0.024904,
     "end_time": "2020-10-08T08:21:37.663929",
     "exception": false,
     "start_time": "2020-10-08T08:21:37.639025",
     "status": "completed"
    },
    "tags": []
   },
   "source": [
    "### Bar chart for emotion images in test data"
   ]
  },
  {
   "cell_type": "code",
   "execution_count": 15,
   "metadata": {
    "execution": {
     "iopub.execute_input": "2020-10-08T08:21:37.732537Z",
     "iopub.status.busy": "2020-10-08T08:21:37.719845Z",
     "iopub.status.idle": "2020-10-08T08:21:37.890761Z",
     "shell.execute_reply": "2020-10-08T08:21:37.891399Z"
    },
    "papermill": {
     "duration": 0.203638,
     "end_time": "2020-10-08T08:21:37.891561",
     "exception": false,
     "start_time": "2020-10-08T08:21:37.687923",
     "status": "completed"
    },
    "tags": []
   },
   "outputs": [
    {
     "data": {
      "text/plain": [
       "<AxesSubplot:>"
      ]
     },
     "execution_count": 15,
     "metadata": {},
     "output_type": "execute_result"
    },
    {
     "data": {
      "image/png": "[encoded data removed]",
      "text/plain": [
       "<Figure size 720x720 with 1 Axes>"
      ]
     },
     "metadata": {
      "needs_background": "light"
     },
     "output_type": "display_data"
    }
   ],
   "source": [
    "test_data_count.transpose().plot(kind='bar', figsize=(10,10))"
   ]
  },
  {
   "cell_type": "markdown",
   "metadata": {},
   "source": [
    "### Examples of emotion images in dataset"
   ]
  },
  {
   "cell_type": "code",
   "execution_count": 16,
   "metadata": {
    "execution": {
     "iopub.execute_input": "2020-10-08T08:21:37.950459Z",
     "iopub.status.busy": "2020-10-08T08:21:37.949497Z",
     "iopub.status.idle": "2020-10-08T08:21:38.407738Z",
     "shell.execute_reply": "2020-10-08T08:21:38.406799Z"
    },
    "papermill": {
     "duration": 0.490337,
     "end_time": "2020-10-08T08:21:38.407869",
     "exception": false,
     "start_time": "2020-10-08T08:21:37.917532",
     "status": "completed"
    },
    "tags": []
   },
   "outputs": [
    {
     "data": {
      "image/png": "[encoded data removed]",
      "text/plain": [
       "<Figure size 1008x1584 with 7 Axes>"
      ]
     },
     "metadata": {
      "needs_background": "light"
     },
     "output_type": "display_data"
    }
   ],
   "source": [
    "plt.figure(figsize=(14,22))\n",
    "i = 1\n",
    "for expression in os.listdir(train_data_dir):\n",
    "    img = load_img((train_data_dir + expression +'/'+ os.listdir(train_data_dir + expression)[1]))\n",
    "    plt.subplot(1,7,i)\n",
    "    plt.imshow(img)\n",
    "    plt.title(expression)\n",
    "    plt.axis('off')\n",
    "    i += 1\n",
    "plt.show()"
   ]
  },
  {
   "cell_type": "markdown",
   "metadata": {},
   "source": []
  },
  {
   "cell_type": "markdown",
   "metadata": {
    "papermill": {
     "duration": 0.024558,
     "end_time": "2020-10-08T08:21:38.457547",
     "exception": false,
     "start_time": "2020-10-08T08:21:38.432989",
     "status": "completed"
    },
    "tags": []
   },
   "source": [
    "## Create Training and test datasets"
   ]
  },
  {
   "cell_type": "code",
   "execution_count": 17,
   "metadata": {
    "execution": {
     "iopub.execute_input": "2020-10-08T08:21:38.515057Z",
     "iopub.status.busy": "2020-10-08T08:21:38.514279Z",
     "iopub.status.idle": "2020-10-08T08:21:44.499528Z",
     "shell.execute_reply": "2020-10-08T08:21:44.499002Z"
    },
    "papermill": {
     "duration": 6.016879,
     "end_time": "2020-10-08T08:21:44.499643",
     "exception": false,
     "start_time": "2020-10-08T08:21:38.482764",
     "status": "completed"
    },
    "tags": []
   },
   "outputs": [
    {
     "name": "stdout",
     "output_type": "stream",
     "text": [
      "Found 28709 images belonging to 7 classes.\n",
      "Found 7178 images belonging to 7 classes.\n"
     ]
    }
   ],
   "source": [
    "train_data_generator = ImageDataGenerator(rescale=1./255,\n",
    "                                   zoom_range=0.3,\n",
    "                                   horizontal_flip=True)\n",
    "\n",
    "training_set = train_data_generator.flow_from_directory(train_data_dir,\n",
    "                                                batch_size=64,\n",
    "                                                target_size=(48,48),\n",
    "                                                shuffle=True,\n",
    "                                                color_mode='grayscale',\n",
    "                                                class_mode='categorical')\n",
    "\n",
    "test_data_generator = ImageDataGenerator(rescale=1./255)\n",
    "test_set = test_data_generator.flow_from_directory(test_data_dir,\n",
    "                                                batch_size=64,\n",
    "                                                target_size=(48,48),\n",
    "                                                shuffle=True,\n",
    "                                                color_mode='grayscale',\n",
    "                                                class_mode='categorical')"
   ]
  },
  {
   "cell_type": "code",
   "execution_count": 18,
   "metadata": {
    "execution": {
     "iopub.execute_input": "2020-10-08T08:21:44.557938Z",
     "iopub.status.busy": "2020-10-08T08:21:44.557063Z",
     "iopub.status.idle": "2020-10-08T08:21:44.561222Z",
     "shell.execute_reply": "2020-10-08T08:21:44.560739Z"
    },
    "papermill": {
     "duration": 0.03518,
     "end_time": "2020-10-08T08:21:44.561327",
     "exception": false,
     "start_time": "2020-10-08T08:21:44.526147",
     "status": "completed"
    },
    "tags": []
   },
   "outputs": [
    {
     "data": {
      "text/plain": [
       "{'angry': 0,\n",
       " 'disgust': 1,\n",
       " 'fear': 2,\n",
       " 'happy': 3,\n",
       " 'neutral': 4,\n",
       " 'sad': 5,\n",
       " 'surprise': 6}"
      ]
     },
     "execution_count": 18,
     "metadata": {},
     "output_type": "execute_result"
    }
   ],
   "source": [
    "training_set.class_indices"
   ]
  },
  {
   "cell_type": "markdown",
   "metadata": {},
   "source": []
  },
  {
   "cell_type": "markdown",
   "metadata": {
    "papermill": {
     "duration": 0.025515,
     "end_time": "2020-10-08T08:21:44.612280",
     "exception": false,
     "start_time": "2020-10-08T08:21:44.586765",
     "status": "completed"
    },
    "tags": []
   },
   "source": [
    "## Constructure Model"
   ]
  },
  {
   "cell_type": "code",
   "execution_count": 19,
   "metadata": {
    "execution": {
     "iopub.execute_input": "2020-10-08T08:21:44.681352Z",
     "iopub.status.busy": "2020-10-08T08:21:44.680378Z",
     "iopub.status.idle": "2020-10-08T08:21:44.683419Z",
     "shell.execute_reply": "2020-10-08T08:21:44.682923Z"
    },
    "papermill": {
     "duration": 0.045419,
     "end_time": "2020-10-08T08:21:44.683519",
     "exception": false,
     "start_time": "2020-10-08T08:21:44.638100",
     "status": "completed"
    },
    "tags": []
   },
   "outputs": [
    {
     "name": "stderr",
     "output_type": "stream",
     "text": [
      "C:\\Users\\Grace\\AppData\\Local\\Packages\\PythonSoftwareFoundation.Python.3.10_qbz5n2kfra8p0\\LocalCache\\local-packages\\Python310\\site-packages\\keras\\optimizers\\optimizer_v2\\adam.py:110: UserWarning: The `lr` argument is deprecated, use `learning_rate` instead.\n",
      "  super(Adam, self).__init__(name, **kwargs)\n"
     ]
    }
   ],
   "source": [
    "#def get_model(input_size, classes=7):\n",
    "model = Sequential()   \n",
    "    #model = tf.keras.models.Sequential()   \n",
    "\n",
    "model.add(Conv2D(32, kernel_size=(3, 3), padding='same', activation='relu', input_shape =(48,48,1)))\n",
    "model.add(Conv2D(64, kernel_size=(3, 3), activation='relu', padding='same'))\n",
    "model.add(BatchNormalization())\n",
    "model.add(MaxPooling2D(2, 2))\n",
    "model.add(Dropout(0.25))\n",
    "\n",
    "model.add(Conv2D(128, kernel_size=(3, 3), activation='relu', padding='same', kernel_regularizer=regularizers.l2(0.01)))\n",
    "model.add(Conv2D(256, kernel_size=(3, 3), activation='relu', kernel_regularizer=regularizers.l2(0.01)))\n",
    "model.add(BatchNormalization())\n",
    "model.add(MaxPooling2D(pool_size=(2, 2)))\n",
    "model.add(Dropout(0.25))\n",
    "\n",
    "model.add(Flatten())\n",
    "model.add(Dense(1024, activation='relu'))\n",
    "model.add(Dropout(0.5))\n",
    "    \n",
    "model.add(Dense(classes, activation='softmax'))\n",
    "\n",
    "model.compile(optimizer=Adam(lr=0.0001, decay=1e-6), \n",
    "                loss='categorical_crossentropy', \n",
    "                metrics=['accuracy'])\n",
    "    #return model"
   ]
  },
  {
   "cell_type": "code",
   "execution_count": 20,
   "metadata": {
    "execution": {
     "iopub.execute_input": "2020-10-08T08:21:44.739574Z",
     "iopub.status.busy": "2020-10-08T08:21:44.739015Z",
     "iopub.status.idle": "2020-10-08T08:21:47.890481Z",
     "shell.execute_reply": "2020-10-08T08:21:47.891521Z"
    },
    "papermill": {
     "duration": 3.182246,
     "end_time": "2020-10-08T08:21:47.891700",
     "exception": false,
     "start_time": "2020-10-08T08:21:44.709454",
     "status": "completed"
    },
    "tags": []
   },
   "outputs": [],
   "source": [
    "#fernet = get_model((row,col,1), classes)\n",
    "#fernet.summary()"
   ]
  },
  {
   "cell_type": "code",
   "execution_count": 21,
   "metadata": {
    "execution": {
     "iopub.execute_input": "2020-10-08T08:21:47.950085Z",
     "iopub.status.busy": "2020-10-08T08:21:47.949212Z",
     "iopub.status.idle": "2020-10-08T08:21:48.566859Z",
     "shell.execute_reply": "2020-10-08T08:21:48.566278Z"
    },
    "papermill": {
     "duration": 0.648998,
     "end_time": "2020-10-08T08:21:48.566990",
     "exception": false,
     "start_time": "2020-10-08T08:21:47.917992",
     "status": "completed"
    },
    "tags": []
   },
   "outputs": [],
   "source": [
    "#plot_model(fernet, to_file='fernet.png', show_shapes=True, show_layer_names=True)"
   ]
  },
  {
   "cell_type": "markdown",
   "metadata": {
    "papermill": {
     "duration": 0.029258,
     "end_time": "2020-10-08T08:21:48.625790",
     "exception": false,
     "start_time": "2020-10-08T08:21:48.596532",
     "status": "completed"
    },
    "tags": []
   },
   "source": [
    "### Callbacks Function"
   ]
  },
  {
   "cell_type": "code",
   "execution_count": 22,
   "metadata": {
    "execution": {
     "iopub.execute_input": "2020-10-08T08:21:48.703810Z",
     "iopub.status.busy": "2020-10-08T08:21:48.693330Z",
     "iopub.status.idle": "2020-10-08T08:21:48.707208Z",
     "shell.execute_reply": "2020-10-08T08:21:48.706632Z"
    },
    "papermill": {
     "duration": 0.052448,
     "end_time": "2020-10-08T08:21:48.707331",
     "exception": false,
     "start_time": "2020-10-08T08:21:48.654883",
     "status": "completed"
    },
    "tags": []
   },
   "outputs": [
    {
     "data": {
      "text/plain": [
       "'chk_path = \\'ferNet.h5\\'\\nlog_dir = \"checkpoint/logs/\" + datetime.datetime.now().strftime(\"%Y%m%d-%H%M%S\")\\n\\ncheckpoint = ModelCheckpoint(filepath=chk_path,\\n                             save_best_only=True,\\n                             verbose=1,\\n                             mode=\\'min\\',\\n                             moniter=\\'val_loss\\')\\n\\nearlystop = EarlyStopping(monitor=\\'val_loss\\', \\n                          min_delta=0, \\n                          patience=3, \\n                          verbose=1, \\n                          restore_best_weights=True)\\n                        \\nreduce_lr = ReduceLROnPlateau(monitor=\\'val_loss\\', \\n                              factor=0.2, \\n                              patience=6, \\n                              verbose=1, \\n                              min_delta=0.0001)\\n\\n\\ntensorboard_callback = tf.keras.callbacks.TensorBoard(log_dir=log_dir, histogram_freq=1)\\ncsv_logger = CSVLogger(\\'training.log\\')\\n\\ncallbacks = [checkpoint, reduce_lr, csv_logger]'"
      ]
     },
     "execution_count": 22,
     "metadata": {},
     "output_type": "execute_result"
    }
   ],
   "source": [
    "\"\"\"chk_path = 'ferNet.h5'\n",
    "log_dir = \"checkpoint/logs/\" + datetime.datetime.now().strftime(\"%Y%m%d-%H%M%S\")\n",
    "\n",
    "checkpoint = ModelCheckpoint(filepath=chk_path,\n",
    "                             save_best_only=True,\n",
    "                             verbose=1,\n",
    "                             mode='min',\n",
    "                             moniter='val_loss')\n",
    "\n",
    "earlystop = EarlyStopping(monitor='val_loss', \n",
    "                          min_delta=0, \n",
    "                          patience=3, \n",
    "                          verbose=1, \n",
    "                          restore_best_weights=True)\n",
    "                        \n",
    "reduce_lr = ReduceLROnPlateau(monitor='val_loss', \n",
    "                              factor=0.2, \n",
    "                              patience=6, \n",
    "                              verbose=1, \n",
    "                              min_delta=0.0001)\n",
    "\n",
    "\n",
    "tensorboard_callback = tf.keras.callbacks.TensorBoard(log_dir=log_dir, histogram_freq=1)\n",
    "csv_logger = CSVLogger('training.log')\n",
    "\n",
    "callbacks = [checkpoint, reduce_lr, csv_logger]\"\"\""
   ]
  },
  {
   "cell_type": "markdown",
   "metadata": {
    "papermill": {
     "duration": 0.029194,
     "end_time": "2020-10-08T08:21:48.768485",
     "exception": false,
     "start_time": "2020-10-08T08:21:48.739291",
     "status": "completed"
    },
    "tags": []
   },
   "source": [
    "## Training Model"
   ]
  },
  {
   "cell_type": "code",
   "execution_count": 23,
   "metadata": {
    "execution": {
     "iopub.execute_input": "2020-10-08T08:21:48.836175Z",
     "iopub.status.busy": "2020-10-08T08:21:48.835472Z",
     "iopub.status.idle": "2020-10-08T09:03:29.511581Z",
     "shell.execute_reply": "2020-10-08T09:03:29.510961Z"
    },
    "papermill": {
     "duration": 2500.711354,
     "end_time": "2020-10-08T09:03:29.511710",
     "exception": false,
     "start_time": "2020-10-08T08:21:48.800356",
     "status": "completed"
    },
    "tags": []
   },
   "outputs": [
    {
     "name": "stdout",
     "output_type": "stream",
     "text": [
      "Epoch 1/60\n",
      "448/448 [==============================] - 297s 658ms/step - loss: 4.2408 - accuracy: 0.2811 - val_loss: 5.9991 - val_accuracy: 0.1920\n",
      "Epoch 2/60\n",
      "448/448 [==============================] - 253s 565ms/step - loss: 3.4458 - accuracy: 0.3349 - val_loss: 3.0562 - val_accuracy: 0.4071\n",
      "Epoch 3/60\n",
      "448/448 [==============================] - 247s 550ms/step - loss: 2.9426 - accuracy: 0.3655 - val_loss: 2.6677 - val_accuracy: 0.4148\n",
      "Epoch 4/60\n",
      "448/448 [==============================] - 247s 550ms/step - loss: 2.5444 - accuracy: 0.3924 - val_loss: 2.3467 - val_accuracy: 0.4316\n",
      "Epoch 5/60\n",
      "448/448 [==============================] - 246s 549ms/step - loss: 2.2371 - accuracy: 0.4211 - val_loss: 1.9773 - val_accuracy: 0.4837\n",
      "Epoch 6/60\n",
      "448/448 [==============================] - 245s 546ms/step - loss: 2.0025 - accuracy: 0.4452 - val_loss: 1.8022 - val_accuracy: 0.4911\n",
      "Epoch 7/60\n",
      "448/448 [==============================] - 250s 558ms/step - loss: 1.8266 - accuracy: 0.4703 - val_loss: 1.6395 - val_accuracy: 0.5116\n",
      "Epoch 8/60\n",
      "448/448 [==============================] - 254s 567ms/step - loss: 1.6883 - accuracy: 0.4851 - val_loss: 1.5204 - val_accuracy: 0.5321\n",
      "Epoch 9/60\n",
      "448/448 [==============================] - 251s 560ms/step - loss: 1.5729 - accuracy: 0.5017 - val_loss: 1.4467 - val_accuracy: 0.5426\n",
      "Epoch 10/60\n",
      "448/448 [==============================] - 246s 549ms/step - loss: 1.4844 - accuracy: 0.5211 - val_loss: 1.4704 - val_accuracy: 0.5187\n",
      "Epoch 11/60\n",
      "448/448 [==============================] - 251s 559ms/step - loss: 1.4177 - accuracy: 0.5314 - val_loss: 1.3113 - val_accuracy: 0.5688\n",
      "Epoch 12/60\n",
      "448/448 [==============================] - 253s 564ms/step - loss: 1.3535 - accuracy: 0.5521 - val_loss: 1.2679 - val_accuracy: 0.5866\n",
      "Epoch 13/60\n",
      "448/448 [==============================] - 254s 568ms/step - loss: 1.3082 - accuracy: 0.5551 - val_loss: 1.2584 - val_accuracy: 0.5806\n",
      "Epoch 14/60\n",
      "448/448 [==============================] - 234s 521ms/step - loss: 1.2623 - accuracy: 0.5733 - val_loss: 1.2315 - val_accuracy: 0.5844\n",
      "Epoch 15/60\n",
      "448/448 [==============================] - 233s 520ms/step - loss: 1.2275 - accuracy: 0.5810 - val_loss: 1.1714 - val_accuracy: 0.5978\n",
      "Epoch 16/60\n",
      "448/448 [==============================] - 238s 532ms/step - loss: 1.1978 - accuracy: 0.5924 - val_loss: 1.1708 - val_accuracy: 0.5972\n",
      "Epoch 17/60\n",
      "448/448 [==============================] - 233s 519ms/step - loss: 1.1664 - accuracy: 0.6027 - val_loss: 1.1474 - val_accuracy: 0.6064\n",
      "Epoch 18/60\n",
      "448/448 [==============================] - 241s 538ms/step - loss: 1.1363 - accuracy: 0.6135 - val_loss: 1.1464 - val_accuracy: 0.6069\n",
      "Epoch 19/60\n",
      "448/448 [==============================] - 247s 551ms/step - loss: 1.1137 - accuracy: 0.6162 - val_loss: 1.1521 - val_accuracy: 0.6087\n",
      "Epoch 20/60\n",
      "448/448 [==============================] - 246s 548ms/step - loss: 1.0847 - accuracy: 0.6296 - val_loss: 1.1324 - val_accuracy: 0.6120\n",
      "Epoch 21/60\n",
      "448/448 [==============================] - 247s 550ms/step - loss: 1.0602 - accuracy: 0.6377 - val_loss: 1.1156 - val_accuracy: 0.6205\n",
      "Epoch 22/60\n",
      "448/448 [==============================] - 246s 549ms/step - loss: 1.0405 - accuracy: 0.6458 - val_loss: 1.1120 - val_accuracy: 0.6219\n",
      "Epoch 23/60\n",
      "448/448 [==============================] - 246s 548ms/step - loss: 1.0169 - accuracy: 0.6580 - val_loss: 1.1161 - val_accuracy: 0.6218\n",
      "Epoch 24/60\n",
      "448/448 [==============================] - 247s 550ms/step - loss: 0.9966 - accuracy: 0.6649 - val_loss: 1.1467 - val_accuracy: 0.6179\n",
      "Epoch 25/60\n",
      "448/448 [==============================] - 246s 549ms/step - loss: 0.9677 - accuracy: 0.6740 - val_loss: 1.1076 - val_accuracy: 0.6373\n",
      "Epoch 26/60\n",
      "448/448 [==============================] - 246s 549ms/step - loss: 0.9536 - accuracy: 0.6807 - val_loss: 1.1021 - val_accuracy: 0.6332\n",
      "Epoch 27/60\n",
      "448/448 [==============================] - 221s 492ms/step - loss: 0.9344 - accuracy: 0.6888 - val_loss: 1.1033 - val_accuracy: 0.6360\n",
      "Epoch 28/60\n",
      "448/448 [==============================] - 236s 526ms/step - loss: 0.9146 - accuracy: 0.6966 - val_loss: 1.1003 - val_accuracy: 0.6366\n",
      "Epoch 29/60\n",
      "448/448 [==============================] - 238s 531ms/step - loss: 0.8997 - accuracy: 0.7021 - val_loss: 1.1070 - val_accuracy: 0.6409\n",
      "Epoch 30/60\n",
      "448/448 [==============================] - 219s 488ms/step - loss: 0.8641 - accuracy: 0.7108 - val_loss: 1.0955 - val_accuracy: 0.6406\n",
      "Epoch 31/60\n",
      "448/448 [==============================] - 247s 551ms/step - loss: 0.8625 - accuracy: 0.7104 - val_loss: 1.1263 - val_accuracy: 0.6366\n",
      "Epoch 32/60\n",
      "448/448 [==============================] - 252s 561ms/step - loss: 0.8421 - accuracy: 0.7262 - val_loss: 1.1177 - val_accuracy: 0.6424\n",
      "Epoch 33/60\n",
      "448/448 [==============================] - 247s 551ms/step - loss: 0.8238 - accuracy: 0.7309 - val_loss: 1.1470 - val_accuracy: 0.6251\n",
      "Epoch 34/60\n",
      "448/448 [==============================] - 249s 556ms/step - loss: 0.8178 - accuracy: 0.7305 - val_loss: 1.1393 - val_accuracy: 0.6399\n",
      "Epoch 35/60\n",
      "448/448 [==============================] - 245s 545ms/step - loss: 0.7985 - accuracy: 0.7377 - val_loss: 1.0935 - val_accuracy: 0.6486\n",
      "Epoch 36/60\n",
      "448/448 [==============================] - 244s 544ms/step - loss: 0.7795 - accuracy: 0.7441 - val_loss: 1.1328 - val_accuracy: 0.6451\n",
      "Epoch 37/60\n",
      "448/448 [==============================] - 246s 548ms/step - loss: 0.7704 - accuracy: 0.7506 - val_loss: 1.1834 - val_accuracy: 0.6415\n",
      "Epoch 38/60\n",
      "448/448 [==============================] - 248s 553ms/step - loss: 0.7520 - accuracy: 0.7566 - val_loss: 1.1152 - val_accuracy: 0.6451\n",
      "Epoch 39/60\n",
      "448/448 [==============================] - 252s 561ms/step - loss: 0.7521 - accuracy: 0.7593 - val_loss: 1.1643 - val_accuracy: 0.6391\n",
      "Epoch 40/60\n",
      "448/448 [==============================] - 251s 560ms/step - loss: 0.7324 - accuracy: 0.7659 - val_loss: 1.1369 - val_accuracy: 0.6466\n",
      "Epoch 41/60\n",
      "448/448 [==============================] - 254s 567ms/step - loss: 0.7232 - accuracy: 0.7697 - val_loss: 1.1941 - val_accuracy: 0.6449\n",
      "Epoch 42/60\n",
      "448/448 [==============================] - 255s 568ms/step - loss: 0.7040 - accuracy: 0.7738 - val_loss: 1.1532 - val_accuracy: 0.6604\n",
      "Epoch 43/60\n",
      "448/448 [==============================] - 245s 545ms/step - loss: 0.7053 - accuracy: 0.7761 - val_loss: 1.1692 - val_accuracy: 0.6532\n",
      "Epoch 44/60\n",
      "448/448 [==============================] - 253s 563ms/step - loss: 0.6888 - accuracy: 0.7809 - val_loss: 1.1234 - val_accuracy: 0.6575\n",
      "Epoch 45/60\n",
      "448/448 [==============================] - 242s 539ms/step - loss: 0.6731 - accuracy: 0.7887 - val_loss: 1.1769 - val_accuracy: 0.6525\n",
      "Epoch 46/60\n",
      "448/448 [==============================] - 252s 562ms/step - loss: 0.6628 - accuracy: 0.7919 - val_loss: 1.1774 - val_accuracy: 0.6582\n",
      "Epoch 47/60\n",
      "448/448 [==============================] - 246s 550ms/step - loss: 0.6506 - accuracy: 0.7997 - val_loss: 1.1970 - val_accuracy: 0.6546\n",
      "Epoch 48/60\n",
      "448/448 [==============================] - 242s 540ms/step - loss: 0.6420 - accuracy: 0.8007 - val_loss: 1.2324 - val_accuracy: 0.6447\n",
      "Epoch 49/60\n",
      "448/448 [==============================] - 241s 537ms/step - loss: 0.6399 - accuracy: 0.8000 - val_loss: 1.2245 - val_accuracy: 0.6475\n",
      "Epoch 50/60\n",
      "448/448 [==============================] - 242s 539ms/step - loss: 0.6248 - accuracy: 0.8071 - val_loss: 1.1844 - val_accuracy: 0.6575\n",
      "Epoch 51/60\n",
      "448/448 [==============================] - 242s 540ms/step - loss: 0.6197 - accuracy: 0.8076 - val_loss: 1.1990 - val_accuracy: 0.6535\n",
      "Epoch 52/60\n",
      "448/448 [==============================] - 253s 565ms/step - loss: 0.6095 - accuracy: 0.8098 - val_loss: 1.2011 - val_accuracy: 0.6595\n",
      "Epoch 53/60\n",
      "448/448 [==============================] - 250s 558ms/step - loss: 0.6055 - accuracy: 0.8120 - val_loss: 1.2828 - val_accuracy: 0.6558\n",
      "Epoch 54/60\n",
      "448/448 [==============================] - 255s 568ms/step - loss: 0.6057 - accuracy: 0.8136 - val_loss: 1.1883 - val_accuracy: 0.6558\n",
      "Epoch 55/60\n",
      "448/448 [==============================] - 234s 522ms/step - loss: 0.5892 - accuracy: 0.8213 - val_loss: 1.2516 - val_accuracy: 0.6599\n",
      "Epoch 56/60\n",
      "448/448 [==============================] - 245s 546ms/step - loss: 0.5758 - accuracy: 0.8220 - val_loss: 1.2688 - val_accuracy: 0.6507\n",
      "Epoch 57/60\n",
      "448/448 [==============================] - 243s 541ms/step - loss: 0.5724 - accuracy: 0.8239 - val_loss: 1.2080 - val_accuracy: 0.6671\n",
      "Epoch 58/60\n",
      "448/448 [==============================] - 231s 514ms/step - loss: 0.5611 - accuracy: 0.8307 - val_loss: 1.2202 - val_accuracy: 0.6609\n",
      "Epoch 59/60\n",
      "448/448 [==============================] - 216s 483ms/step - loss: 0.5576 - accuracy: 0.8309 - val_loss: 1.1926 - val_accuracy: 0.6565\n",
      "Epoch 60/60\n",
      "448/448 [==============================] - 215s 481ms/step - loss: 0.5581 - accuracy: 0.8298 - val_loss: 1.2679 - val_accuracy: 0.6522\n"
     ]
    }
   ],
   "source": [
    "steps_per_epoch = training_set.n // training_set.batch_size\n",
    "validation_steps = test_set.n // test_set.batch_size\n",
    "hist = model.fit(x=training_set,\n",
    "                 validation_data=test_set,\n",
    "                 epochs=60,\n",
    "                 #callbacks= callbacks,\n",
    "                 steps_per_epoch=steps_per_epoch,\n",
    "                 validation_steps=validation_steps)"
   ]
  },
  {
   "cell_type": "markdown",
   "metadata": {
    "papermill": {
     "duration": 10.924119,
     "end_time": "2020-10-08T09:03:51.155021",
     "exception": false,
     "start_time": "2020-10-08T09:03:40.230902",
     "status": "completed"
    },
    "tags": []
   },
   "source": [
    "## Loss and Accuracy plot"
   ]
  },
  {
   "cell_type": "code",
   "execution_count": 25,
   "metadata": {
    "execution": {
     "iopub.execute_input": "2020-10-08T09:04:13.368739Z",
     "iopub.status.busy": "2020-10-08T09:04:13.360682Z",
     "iopub.status.idle": "2020-10-08T09:04:13.705368Z",
     "shell.execute_reply": "2020-10-08T09:04:13.705946Z"
    },
    "papermill": {
     "duration": 11.065454,
     "end_time": "2020-10-08T09:04:13.706115",
     "exception": false,
     "start_time": "2020-10-08T09:04:02.640661",
     "status": "completed"
    },
    "tags": []
   },
   "outputs": [
    {
     "data": {
      "image/png": "[encoded data removed]",
      "text/plain": [
       "<Figure size 1008x360 with 2 Axes>"
      ]
     },
     "metadata": {
      "needs_background": "light"
     },
     "output_type": "display_data"
    }
   ],
   "source": [
    "plt.figure(figsize=(14,5))\n",
    "plt.subplot(1,2,2)\n",
    "plt.plot(hist.history['accuracy'])\n",
    "plt.plot(hist.history['val_accuracy'])\n",
    "plt.title('Model Accuracy')\n",
    "plt.xlabel('Epochs')\n",
    "plt.ylabel('Accuracy')\n",
    "plt.legend(['train', 'test'], loc='upper left')\n",
    "\n",
    "plt.subplot(1,2,1)\n",
    "plt.plot(hist.history['loss'])\n",
    "plt.plot(hist.history['val_loss'])\n",
    "plt.title('model Loss')\n",
    "plt.xlabel('Epochs')\n",
    "plt.ylabel('Loss')\n",
    "plt.legend(['train', 'test'], loc='upper left')\n",
    "plt.show()"
   ]
  },
  {
   "cell_type": "markdown",
   "metadata": {
    "papermill": {
     "duration": 10.631613,
     "end_time": "2020-10-08T09:04:35.200516",
     "exception": false,
     "start_time": "2020-10-08T09:04:24.568903",
     "status": "completed"
    },
    "tags": []
   },
   "source": [
    "high accracy is achieved on training set but accuracy on validation set is stuck at 66% also no overfitting can se seen in the dataset hence is can be concluded that the inefficiency may be due to the unbalanced dataset"
   ]
  },
  {
   "cell_type": "markdown",
   "metadata": {
    "papermill": {
     "duration": 11.092708,
     "end_time": "2020-10-08T09:04:56.961972",
     "exception": false,
     "start_time": "2020-10-08T09:04:45.869264",
     "status": "completed"
    },
    "tags": []
   },
   "source": [
    "### Model evaluation"
   ]
  },
  {
   "cell_type": "code",
   "execution_count": 26,
   "metadata": {
    "execution": {
     "iopub.execute_input": "2020-10-08T09:05:19.256938Z",
     "iopub.status.busy": "2020-10-08T09:05:19.256248Z",
     "iopub.status.idle": "2020-10-08T09:05:54.067354Z",
     "shell.execute_reply": "2020-10-08T09:05:54.066292Z"
    },
    "papermill": {
     "duration": 45.661739,
     "end_time": "2020-10-08T09:05:54.067516",
     "exception": false,
     "start_time": "2020-10-08T09:05:08.405777",
     "status": "completed"
    },
    "tags": []
   },
   "outputs": [
    {
     "name": "stdout",
     "output_type": "stream",
     "text": [
      "449/449 [==============================] - 64s 142ms/step - loss: 0.3574 - accuracy: 0.9187\n",
      "113/113 [==============================] - 16s 144ms/step - loss: 1.2678 - accuracy: 0.6521\n",
      "final train accuracy = 91.87 , validation accuracy = 65.21\n"
     ]
    }
   ],
   "source": [
    "train_loss, train_accu = model.evaluate(training_set)\n",
    "test_loss, test_accu = model.evaluate(test_set)\n",
    "print(\"final train accuracy = {:.2f} , validation accuracy = {:.2f}\".format(train_accu*100, test_accu*100))"
   ]
  },
  {
   "cell_type": "markdown",
   "metadata": {},
   "source": [
    "### Serialize the model to JSON and save the model weights"
   ]
  },
  {
   "cell_type": "code",
   "execution_count": 50,
   "metadata": {
    "execution": {
     "iopub.execute_input": "2020-10-08T09:06:17.775174Z",
     "iopub.status.busy": "2020-10-08T09:06:17.774051Z",
     "iopub.status.idle": "2020-10-08T09:06:18.048124Z",
     "shell.execute_reply": "2020-10-08T09:06:18.047464Z"
    },
    "papermill": {
     "duration": 11.722198,
     "end_time": "2020-10-08T09:06:18.048261",
     "exception": false,
     "start_time": "2020-10-08T09:06:06.326063",
     "status": "completed"
    },
    "tags": []
   },
   "outputs": [],
   "source": [
    "model_json = model.to_json()\n",
    "with open(\"model.json\", \"w\") as json_file:\n",
    "    json_file.write(model_json)\n",
    "model.save_weights(\"model.h5\")"
   ]
  },
  {
   "cell_type": "markdown",
   "metadata": {
    "papermill": {
     "duration": 11.353317,
     "end_time": "2020-10-08T09:06:40.761699",
     "exception": false,
     "start_time": "2020-10-08T09:06:29.408382",
     "status": "completed"
    },
    "tags": []
   },
   "source": [
    "### Confusion Matrix and Classification on training set"
   ]
  },
  {
   "cell_type": "code",
   "execution_count": 35,
   "metadata": {
    "execution": {
     "iopub.execute_input": "2020-10-08T09:07:05.411319Z",
     "iopub.status.busy": "2020-10-08T09:07:05.410574Z",
     "iopub.status.idle": "2020-10-08T09:07:34.738091Z",
     "shell.execute_reply": "2020-10-08T09:07:34.737422Z"
    },
    "papermill": {
     "duration": 42.439873,
     "end_time": "2020-10-08T09:07:34.738233",
     "exception": false,
     "start_time": "2020-10-08T09:06:52.298360",
     "status": "completed"
    },
    "tags": []
   },
   "outputs": [
    {
     "name": "stdout",
     "output_type": "stream",
     "text": [
      "449/449 [==============================] - 58s 129ms/step\n"
     ]
    },
    {
     "ename": "ModuleNotFoundError",
     "evalue": "No module named 'sklearn'",
     "output_type": "error",
     "traceback": [
      "\u001b[1;31m---------------------------------------------------------------------------\u001b[0m",
      "\u001b[1;31mModuleNotFoundError\u001b[0m                       Traceback (most recent call last)",
      "\u001b[1;32mc:\\Users\\Grace\\Desktop\\Capstone project\\facial-emotion-recogination-91-accuracy-train-set.ipynb Cell 33\u001b[0m in \u001b[0;36m<cell line: 6>\u001b[1;34m()\u001b[0m\n\u001b[0;32m      <a href='vscode-notebook-cell:/c%3A/Users/Grace/Desktop/Capstone%20project/facial-emotion-recogination-91-accuracy-train-set.ipynb#X44sZmlsZQ%3D%3D?line=2'>3</a>\u001b[0m class_labels \u001b[39m=\u001b[39m test_set\u001b[39m.\u001b[39mclass_indices\n\u001b[0;32m      <a href='vscode-notebook-cell:/c%3A/Users/Grace/Desktop/Capstone%20project/facial-emotion-recogination-91-accuracy-train-set.ipynb#X44sZmlsZQ%3D%3D?line=3'>4</a>\u001b[0m class_labels \u001b[39m=\u001b[39m {v:k \u001b[39mfor\u001b[39;00m k,v \u001b[39min\u001b[39;00m class_labels\u001b[39m.\u001b[39mitems()}\n\u001b[1;32m----> <a href='vscode-notebook-cell:/c%3A/Users/Grace/Desktop/Capstone%20project/facial-emotion-recogination-91-accuracy-train-set.ipynb#X44sZmlsZQ%3D%3D?line=5'>6</a>\u001b[0m \u001b[39mfrom\u001b[39;00m \u001b[39msklearn\u001b[39;00m\u001b[39m.\u001b[39;00m\u001b[39mmetrics\u001b[39;00m \u001b[39mimport\u001b[39;00m classification_report, confusion_matrix\n\u001b[0;32m      <a href='vscode-notebook-cell:/c%3A/Users/Grace/Desktop/Capstone%20project/facial-emotion-recogination-91-accuracy-train-set.ipynb#X44sZmlsZQ%3D%3D?line=6'>7</a>\u001b[0m cm_train \u001b[39m=\u001b[39m confusion_matrix(training_set\u001b[39m.\u001b[39mclasses, y_pred)\n\u001b[0;32m      <a href='vscode-notebook-cell:/c%3A/Users/Grace/Desktop/Capstone%20project/facial-emotion-recogination-91-accuracy-train-set.ipynb#X44sZmlsZQ%3D%3D?line=7'>8</a>\u001b[0m \u001b[39mprint\u001b[39m(\u001b[39m'\u001b[39m\u001b[39mConfusion Matrix\u001b[39m\u001b[39m'\u001b[39m)\n",
      "\u001b[1;31mModuleNotFoundError\u001b[0m: No module named 'sklearn'"
     ]
    }
   ],
   "source": [
    "\"\"\"y_pred = model.predict(training_set)\n",
    "y_pred = np.argmax(y_pred, axis=1)\n",
    "class_labels = test_set.class_indices\n",
    "class_labels = {v:k for k,v in class_labels.items()}\n",
    "\n",
    "from sklearn.metrics import classification_report, confusion_matrix\n",
    "cm_train = confusion_matrix(training_set.classes, y_pred)\n",
    "print('Confusion Matrix')\n",
    "print(cm_train)\n",
    "print('Classification Report')\n",
    "target_names = list(class_labels.values())\n",
    "print(classification_report(training_set.classes, y_pred, target_names=target_names))\n",
    "\n",
    "plt.figure(figsize=(8,8))\n",
    "plt.imshow(cm_train, interpolation='nearest')\n",
    "plt.colorbar()\n",
    "tick_mark = np.arange(len(target_names))\n",
    "_ = plt.xticks(tick_mark, target_names, rotation=90)\n",
    "_ = plt.yticks(tick_mark, target_names)\"\"\""
   ]
  },
  {
   "cell_type": "markdown",
   "metadata": {
    "papermill": {
     "duration": 11.400718,
     "end_time": "2020-10-08T09:07:57.372216",
     "exception": false,
     "start_time": "2020-10-08T09:07:45.971498",
     "status": "completed"
    },
    "tags": []
   },
   "source": [
    "### Confusion Matrix and Classification on test set"
   ]
  },
  {
   "cell_type": "code",
   "execution_count": 32,
   "metadata": {
    "execution": {
     "iopub.execute_input": "2020-10-08T09:08:19.976384Z",
     "iopub.status.busy": "2020-10-08T09:08:19.975662Z",
     "iopub.status.idle": "2020-10-08T09:08:24.493502Z",
     "shell.execute_reply": "2020-10-08T09:08:24.492559Z"
    },
    "papermill": {
     "duration": 15.464576,
     "end_time": "2020-10-08T09:08:24.493663",
     "exception": false,
     "start_time": "2020-10-08T09:08:09.029087",
     "status": "completed"
    },
    "tags": []
   },
   "outputs": [
    {
     "name": "stdout",
     "output_type": "stream",
     "text": [
      "113/113 [==============================] - 15s 130ms/step\n"
     ]
    },
    {
     "ename": "NameError",
     "evalue": "name 'confusion_matrix' is not defined",
     "output_type": "error",
     "traceback": [
      "\u001b[1;31m---------------------------------------------------------------------------\u001b[0m",
      "\u001b[1;31mNameError\u001b[0m                                 Traceback (most recent call last)",
      "\u001b[1;32mc:\\Users\\Grace\\Desktop\\Capstone project\\facial-emotion-recogination-91-accuracy-train-set.ipynb Cell 35\u001b[0m in \u001b[0;36m<cell line: 7>\u001b[1;34m()\u001b[0m\n\u001b[0;32m      <a href='vscode-notebook-cell:/c%3A/Users/Grace/Desktop/Capstone%20project/facial-emotion-recogination-91-accuracy-train-set.ipynb#X46sZmlsZQ%3D%3D?line=3'>4</a>\u001b[0m class_labels \u001b[39m=\u001b[39m {v:k \u001b[39mfor\u001b[39;00m k,v \u001b[39min\u001b[39;00m class_labels\u001b[39m.\u001b[39mitems()}\n\u001b[0;32m      <a href='vscode-notebook-cell:/c%3A/Users/Grace/Desktop/Capstone%20project/facial-emotion-recogination-91-accuracy-train-set.ipynb#X46sZmlsZQ%3D%3D?line=5'>6</a>\u001b[0m \u001b[39m#from sklearn.metrics import classification_report, confusion_matrix\u001b[39;00m\n\u001b[1;32m----> <a href='vscode-notebook-cell:/c%3A/Users/Grace/Desktop/Capstone%20project/facial-emotion-recogination-91-accuracy-train-set.ipynb#X46sZmlsZQ%3D%3D?line=6'>7</a>\u001b[0m cm_test \u001b[39m=\u001b[39m confusion_matrix(test_set\u001b[39m.\u001b[39mclasses, y_pred)\n\u001b[0;32m      <a href='vscode-notebook-cell:/c%3A/Users/Grace/Desktop/Capstone%20project/facial-emotion-recogination-91-accuracy-train-set.ipynb#X46sZmlsZQ%3D%3D?line=7'>8</a>\u001b[0m \u001b[39mprint\u001b[39m(\u001b[39m'\u001b[39m\u001b[39mConfusion Matrix\u001b[39m\u001b[39m'\u001b[39m)\n\u001b[0;32m      <a href='vscode-notebook-cell:/c%3A/Users/Grace/Desktop/Capstone%20project/facial-emotion-recogination-91-accuracy-train-set.ipynb#X46sZmlsZQ%3D%3D?line=8'>9</a>\u001b[0m \u001b[39mprint\u001b[39m(cm_test)\n",
      "\u001b[1;31mNameError\u001b[0m: name 'confusion_matrix' is not defined"
     ]
    }
   ],
   "source": [
    "\"\"\"y_pred = model.predict(test_set)\n",
    "y_pred = np.argmax(y_pred, axis=1)\n",
    "class_labels = test_set.class_indices\n",
    "class_labels = {v:k for k,v in class_labels.items()}\n",
    "\n",
    "#from sklearn.metrics import classification_report, confusion_matrix\n",
    "cm_test = confusion_matrix(test_set.classes, y_pred)\n",
    "print('Confusion Matrix')\n",
    "print(cm_test)\n",
    "print('Classification Report')\n",
    "target_names = list(class_labels.values())\n",
    "print(classification_report(test_set.classes, y_pred, target_names=target_names))\n",
    "\n",
    "plt.figure(figsize=(8,8))\n",
    "plt.imshow(cm_test, interpolation='nearest')\n",
    "plt.colorbar()\n",
    "tick_mark = np.arange(len(target_names))\n",
    "_ = plt.xticks(tick_mark, target_names, rotation=90)\n",
    "_ = plt.yticks(tick_mark, target_names)\"\"\""
   ]
  },
  {
   "cell_type": "markdown",
   "metadata": {},
   "source": [
    "### Import model weight and haar cascade file"
   ]
  },
  {
   "cell_type": "code",
   "execution_count": 57,
   "metadata": {},
   "outputs": [],
   "source": [
    "from keras.models import model_from_json\n",
    "from keras.preprocessing import image\n",
    "model = model_from_json(open(\"model.json\", \"r\").read())\n",
    "model.load_weights('model.h5')\n",
    "face_haar_cascade = cv2.CascadeClassifier('haarcascade_frontalface_default.xml')"
   ]
  },
  {
   "cell_type": "markdown",
   "metadata": {},
   "source": [
    "### Construct frame to capture the image "
   ]
  },
  {
   "cell_type": "code",
   "execution_count": 65,
   "metadata": {},
   "outputs": [
    {
     "ename": "KeyboardInterrupt",
     "evalue": "",
     "output_type": "error",
     "traceback": [
      "\u001b[1;31m---------------------------------------------------------------------------\u001b[0m",
      "\u001b[1;31mKeyboardInterrupt\u001b[0m                         Traceback (most recent call last)",
      "\u001b[1;32mc:\\Users\\Grace\\Desktop\\Capstone project\\facial-emotion-recogination-91-accuracy-train-set.ipynb Cell 40\u001b[0m in \u001b[0;36m<cell line: 3>\u001b[1;34m()\u001b[0m\n\u001b[0;32m      <a href='vscode-notebook-cell:/c%3A/Users/Grace/Desktop/Capstone%20project/facial-emotion-recogination-91-accuracy-train-set.ipynb#X54sZmlsZQ%3D%3D?line=0'>1</a>\u001b[0m cap\u001b[39m=\u001b[39mcv2\u001b[39m.\u001b[39mVideoCapture(\u001b[39m0\u001b[39m)\n\u001b[0;32m      <a href='vscode-notebook-cell:/c%3A/Users/Grace/Desktop/Capstone%20project/facial-emotion-recogination-91-accuracy-train-set.ipynb#X54sZmlsZQ%3D%3D?line=2'>3</a>\u001b[0m \u001b[39mwhile\u001b[39;00m \u001b[39mTrue\u001b[39;00m:  \n\u001b[1;32m----> <a href='vscode-notebook-cell:/c%3A/Users/Grace/Desktop/Capstone%20project/facial-emotion-recogination-91-accuracy-train-set.ipynb#X54sZmlsZQ%3D%3D?line=3'>4</a>\u001b[0m     ret,test_img\u001b[39m=\u001b[39mcap\u001b[39m.\u001b[39;49mread()\u001b[39m# captures frame and returns boolean value and captured image  \u001b[39;00m\n\u001b[0;32m      <a href='vscode-notebook-cell:/c%3A/Users/Grace/Desktop/Capstone%20project/facial-emotion-recogination-91-accuracy-train-set.ipynb#X54sZmlsZQ%3D%3D?line=4'>5</a>\u001b[0m     \u001b[39mif\u001b[39;00m \u001b[39mnot\u001b[39;00m ret:  \n\u001b[0;32m      <a href='vscode-notebook-cell:/c%3A/Users/Grace/Desktop/Capstone%20project/facial-emotion-recogination-91-accuracy-train-set.ipynb#X54sZmlsZQ%3D%3D?line=5'>6</a>\u001b[0m         \u001b[39mcontinue\u001b[39;00m  \n",
      "\u001b[1;31mKeyboardInterrupt\u001b[0m: "
     ]
    }
   ],
   "source": [
    "cap=cv2.VideoCapture(0)\n",
    "\n",
    "while True:  \n",
    "    ret,test_img=cap.read()# captures frame and returns boolean value and captured image  \n",
    "    if not ret:  \n",
    "        continue  \n",
    "    gray_img= cv2.cvtColor(test_img, cv2.COLOR_BGR2GRAY)  \n",
    "  \n",
    "    faces_detected = face_haar_cascade.detectMultiScale(gray_img, 1.32, 5)  \n",
    "  \n",
    "  \n",
    "    for (x,y,w,h) in faces_detected:  \n",
    "        cv2.rectangle(test_img,(x,y),(x+w,y+h),(255,0,0),thickness=7)  \n",
    "        roi_gray=gray_img[y:y+w,x:x+h]#cropping region of interest i.e. face area from  image  \n",
    "        roi_gray=cv2.resize(roi_gray,(48,48))  \n",
    "        img_pixels = image.img_to_array(roi_gray)  \n",
    "        img_pixels = np.expand_dims(img_pixels, axis = 0)  \n",
    "        img_pixels /= 255  \n",
    "  \n",
    "        predictions = model.predict(img_pixels)  \n",
    "  \n",
    "        #find max indexed array  \n",
    "        max_index = np.argmax(predictions[0])  \n",
    "  \n",
    "        emotions = ('angry', 'disgust', 'fear', 'happy', 'sad', 'surprise', 'neutral')  \n",
    "        predicted_emotion = emotions[max_index]  \n",
    "  \n",
    "        cv2.putText(test_img, predicted_emotion, (int(x), int(y)), cv2.FONT_HERSHEY_SIMPLEX, 1, (0,0,255), 2)  \n",
    "  \n",
    "    resized_img = cv2.resize(test_img, (1000, 700))  \n",
    "    cv2.imshow('Facial emotion analysis ',resized_img)  \n",
    "  \n",
    "  \n",
    "  \n",
    "    if cv2.waitKey(10) == ord('q'):#wait until 'q' key is pressed  \n",
    "        break  \n",
    "  \n",
    "cap.release()  \n",
    "cv2.destroyAllWindows  "
   ]
  }
 ],
 "metadata": {
  "kernelspec": {
   "display_name": "Python 3.10.5 64-bit (windows store)",
   "language": "python",
   "name": "python3"
  },
  "language_info": {
   "codemirror_mode": {
    "name": "ipython",
    "version": 3
   },
   "file_extension": ".py",
   "mimetype": "text/x-python",
   "name": "python",
   "nbconvert_exporter": "python",
   "pygments_lexer": "ipython3",
   "version": "3.10.5"
  },
  "papermill": {
   "duration": 2830.346368,
   "end_time": "2020-10-08T09:08:37.334816",
   "environment_variables": {},
   "exception": null,
   "input_path": "__notebook__.ipynb",
   "output_path": "__notebook__.ipynb",
   "parameters": {},
   "start_time": "2020-10-08T08:21:26.988448",
   "version": "2.1.0"
  },
  "vscode": {
   "interpreter": {
    "hash": "55e0780e233472bf5a2910e1bf591422de509b52d9daa90f1f12cda5f286cb51"
   }
  }
 },
 "nbformat": 4,
 "nbformat_minor": 4
}
